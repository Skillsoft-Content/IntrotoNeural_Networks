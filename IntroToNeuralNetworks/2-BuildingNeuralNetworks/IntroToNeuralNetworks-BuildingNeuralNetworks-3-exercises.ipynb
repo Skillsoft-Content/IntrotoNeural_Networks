{
 "cells": [
  {
   "cell_type": "markdown",
   "id": "3a940f8e",
   "metadata": {},
   "source": [
    "## INTROTONEURALNETWORKS/2 BUILDINGNEURALNETWORKS/INTROTONEURALNETWORKS BUILDINGNEURALNETWORKS 3 EXERCISE  ##\n",
    "#### Exercise ####\n",
    "#### Please refer to module 1 of IntroToNeuralNetworks - BuildingNeuralNetworks for tasks 1-7\n",
    "#### Task 1\n",
    "##### Load the required libraries.\n",
    "#### Result:\n"
   ]
  },
  {
   "cell_type": "code",
   "execution_count": null,
   "id": "36838fdd",
   "metadata": {},
   "outputs": [],
   "source": []
  },
  {
   "cell_type": "markdown",
   "id": "1396da4c",
   "metadata": {},
   "source": [
    "#### Task 2\n",
    "##### Set the working directory to data directory.\n",
    "##### Print the working directory.\n",
    "#### Result:\n"
   ]
  },
  {
   "cell_type": "code",
   "execution_count": null,
   "id": "96b4277d",
   "metadata": {},
   "outputs": [],
   "source": []
  },
  {
   "cell_type": "markdown",
   "id": "705cf703",
   "metadata": {},
   "source": [
    "#### Task 3\n",
    "##### Load the dataset `bank_marketing.csv` and save it to `bank_marketing`.\n",
    "##### Print the first few rows of `bank_marketing`.\n",
    "#### Result:\n"
   ]
  },
  {
   "cell_type": "code",
   "execution_count": null,
   "id": "461ef6e4",
   "metadata": {},
   "outputs": [],
   "source": []
  },
  {
   "cell_type": "markdown",
   "id": "d76d7f24",
   "metadata": {},
   "source": [
    "#### Task 4\n",
    "##### Check for NAs in `bank_marketing` and print the count of the NAs in each column. \n",
    "#### Result:\n"
   ]
  },
  {
   "cell_type": "code",
   "execution_count": null,
   "id": "4d209ea2",
   "metadata": {},
   "outputs": [],
   "source": []
  },
  {
   "cell_type": "markdown",
   "id": "f66dcad8",
   "metadata": {},
   "source": [
    "#### Task 5\n",
    "##### Print the data types of all the columns in `bank_marketing`.\n",
    "##### Perform one hot encoding on the variables with data type object except the target variable `y`.\n",
    "##### Drop the original variables and concatenate the dummies to the original dataset.\n",
    "#### Result:\n"
   ]
  },
  {
   "cell_type": "code",
   "execution_count": null,
   "id": "8fb0010e",
   "metadata": {},
   "outputs": [],
   "source": []
  },
  {
   "cell_type": "markdown",
   "id": "44831e84",
   "metadata": {},
   "source": [
    "#### Task 6\n",
    "##### Split the target variable from the dataset and save as `X`. \n",
    "##### Save the target variable as `y`.\n",
    "#### Result:\n"
   ]
  },
  {
   "cell_type": "code",
   "execution_count": null,
   "id": "77a8e6fd",
   "metadata": {},
   "outputs": [],
   "source": []
  },
  {
   "cell_type": "markdown",
   "id": "ada7cca4",
   "metadata": {},
   "source": [
    "#### Task 7\n",
    "##### Split X and y into training and test sets with a 70 : 30 ratio, and save respective variables to `X_train`, `X_test`, `y_train`, `y_test`.\n",
    "##### Scale the train and test datasets using Min max scaler and save as `X_train_scaled` and `X_test_scaled` respectively.\n",
    "#### Result: \n"
   ]
  },
  {
   "cell_type": "code",
   "execution_count": null,
   "id": "4dfeb561",
   "metadata": {},
   "outputs": [],
   "source": []
  },
  {
   "cell_type": "markdown",
   "id": "69d68896",
   "metadata": {},
   "source": [
    "#### Please refer to module 2 of IntroToNeuralNetworks - BuildingNeuralNetworks for tasks 8-13\n",
    "#### Task 8\n",
    "##### Build the neural network model with MLPClassifier with\n"
   ]
  },
  {
   "cell_type": "code",
   "execution_count": null,
   "id": "510c3151",
   "metadata": {},
   "outputs": [],
   "source": [
    "  - 64 neurons for hidden layer\n",
    "  - The random state at 1\n"
   ]
  },
  {
   "cell_type": "markdown",
   "id": "8c377445",
   "metadata": {},
   "source": [
    "##### Save the model as `nn`. \n",
    "##### Fit `nn` with `X_train_scaled` and `y_train` and save the fitted model as `fit_nn`. \n",
    "#### Result: \n"
   ]
  },
  {
   "cell_type": "code",
   "execution_count": null,
   "id": "25ff3e75",
   "metadata": {},
   "outputs": [],
   "source": []
  },
  {
   "cell_type": "markdown",
   "id": "2cacf097",
   "metadata": {},
   "source": [
    "#### Task 9\n",
    "##### Compute the train accuracy score of the `fit_nn` model. \n",
    "##### Print the accuracy score. \n",
    "#### Result: \n"
   ]
  },
  {
   "cell_type": "code",
   "execution_count": null,
   "id": "2276aecb",
   "metadata": {},
   "outputs": [],
   "source": []
  },
  {
   "cell_type": "markdown",
   "id": "242b9eab",
   "metadata": {},
   "source": [
    "#### Task 10\n",
    "##### Using the `fit_nn` model, predict on the `X_test_scaled` dataset and save the predicted values as `predicted_values_nn`. \n",
    "##### Print `predicted_values_nn`. \n",
    "##### Also, create a confusion matrix with the test data and the predicted values and save as `conf_matrix_test`.\n",
    "#### Result: \n"
   ]
  },
  {
   "cell_type": "code",
   "execution_count": null,
   "id": "08c29383",
   "metadata": {},
   "outputs": [],
   "source": []
  },
  {
   "cell_type": "markdown",
   "id": "4c917d4f",
   "metadata": {},
   "source": [
    "#### Task 11\n",
    "##### Compute the test model accuracy score and save the value as `test_accuracy_score`. \n",
    "##### Create a list of target names `['no', 'yes']` to interpret class assignments and save as `target_names`. \n",
    "##### Print an entire classification report.\n",
    "#### Result: \n"
   ]
  },
  {
   "cell_type": "code",
   "execution_count": null,
   "id": "b880711a",
   "metadata": {},
   "outputs": [],
   "source": []
  },
  {
   "cell_type": "markdown",
   "id": "e508c2ea",
   "metadata": {},
   "source": [
    "#### Task 12\n",
    "##### Get probabilities instead of predicted values.\n",
    "##### Also, get probabilities of test predictions.\n",
    "##### Finally, get FPR, TPR, and threshold values.\n",
    "#### Result: \n"
   ]
  },
  {
   "cell_type": "code",
   "execution_count": null,
   "id": "86147a15",
   "metadata": {},
   "outputs": [],
   "source": []
  },
  {
   "cell_type": "markdown",
   "id": "2d168408",
   "metadata": {},
   "source": [
    "#### Task 13\n",
    "##### Get AUC by providing the FPR and TPR.\n",
    "##### Make an ROC curve plot.\n",
    "#### Result: \n"
   ]
  },
  {
   "cell_type": "code",
   "execution_count": null,
   "id": "343975c4",
   "metadata": {},
   "outputs": [],
   "source": []
  },
  {
   "cell_type": "markdown",
   "id": "ba97aac9",
   "metadata": {},
   "source": [
    "#### Please refer to module 3 of IntroToNeuralNetworks - BuildingNeuralNetworks for tasks 14-16\n",
    "#### Task 14\n",
    "##### Set up the number of epochs, number of classes, initialize the classifier, and create empty lists to store your train and test scores.\n",
    "#### Result:\n"
   ]
  },
  {
   "cell_type": "code",
   "execution_count": null,
   "id": "6555601d",
   "metadata": {},
   "outputs": [],
   "source": []
  },
  {
   "cell_type": "markdown",
   "id": "a11913ac",
   "metadata": {},
   "source": [
    "#### Task 15\n",
    "##### Run partial fit to train data for each epoch, and store the train and test scores in respective lists.\n",
    "#### Result:\n"
   ]
  },
  {
   "cell_type": "code",
   "execution_count": null,
   "id": "b191fe19",
   "metadata": {},
   "outputs": [],
   "source": []
  },
  {
   "cell_type": "markdown",
   "id": "5da5d1ce",
   "metadata": {},
   "source": [
    "#### Task 16\n",
    "##### Plot accuracy and loss curves for the training history.\n",
    "#### Result:\n"
   ]
  },
  {
   "cell_type": "code",
   "execution_count": null,
   "id": "1649bf2e",
   "metadata": {},
   "outputs": [],
   "source": []
  }
 ],
 "metadata": {
  "language": "python"
 },
 "nbformat": 4,
 "nbformat_minor": 5
}
